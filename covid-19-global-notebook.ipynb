{
 "cells": [
  {
   "cell_type": "markdown",
   "metadata": {},
   "source": [
    "# 初めにお読みください。\n",
    "\n",
    "このシートを動かすためには、事前にCSVデータをダウンロードする必要があります。\n",
    "\n",
    "データファイルを直接curl等でダウンロードできないため、まず、ブラウザで  \n",
    "[https://docs.google.com/spreadsheets/d/e/2PACX-1vSe-8lf6l_ShJHvd126J-jGti992SUbNLu-kmJfx1IRkvma_r4DHi0bwEW89opArs8ZkSY5G2-Bc1yT/pub?gid=0&single=true&output=csv](https://docs.google.com/spreadsheets/d/e/2PACX-1vSe-8lf6l_ShJHvd126J-jGti992SUbNLu-kmJfx1IRkvma_r4DHi0bwEW89opArs8ZkSY5G2-Bc1yT/pub?gid=0&single=true&output=csv)  \n",
    "へアクセスしてください。\n",
    "\n",
    "すると、CSVファイルがダウンロードできるため、ファイル名を `COVID-19-global-data.csv` として、このREADMEを置いているフォルダへ保存してください。\n",
    "\n",
    "Google Colaboratoryで動かすには、上記でダウンロードしたファイルを、ノートブックと同じ場所にアップロードしてください。"
   ]
  },
  {
   "cell_type": "code",
   "execution_count": null,
   "metadata": {},
   "outputs": [],
   "source": [
    "import numpy as np\n",
    "import pandas as pd\n",
    "import seaborn as sns\n",
    "from typing import Dict, List\n",
    "import datetime\n",
    "import json\n",
    "import matplotlib.pyplot as plt\n",
    "import urllib.request"
   ]
  },
  {
   "cell_type": "markdown",
   "metadata": {},
   "source": [
    "# 定数"
   ]
  },
  {
   "cell_type": "markdown",
   "metadata": {},
   "source": [
    "## 挙動の定義"
   ]
  },
  {
   "cell_type": "markdown",
   "metadata": {},
   "source": [
    "### DATE\n",
    "ある日付での都道府県ごとの件数を表示する際、日付を指定。\n",
    "- ファイルの中の最終日を指定する場合はNoneを設定\n",
    "- 特定の日付を指定する場合は、「YYYY-MM-DD」形式の文字列を設定"
   ]
  },
  {
   "cell_type": "code",
   "execution_count": null,
   "metadata": {},
   "outputs": [],
   "source": [
    "DATE = None\n",
    "# DATE = '2020-04-05'"
   ]
  },
  {
   "cell_type": "markdown",
   "metadata": {},
   "source": [
    "### COUNTRY\n",
    "ある国での日別の件数を表示する際の、国を指定。  \n",
    "英語表記で指定する。  \n",
    "データファイルの `ADM0_NAME` の列を参照。"
   ]
  },
  {
   "cell_type": "code",
   "execution_count": null,
   "metadata": {},
   "outputs": [],
   "source": [
    "# 1つの都道府県だけで見たい場合：要素が1つだけのリストで定義\n",
    "# COUNTRY = ['Japan']\n",
    "# 緊急事態宣言を発令した都道府県（愛知県も入りそうなので入れておく）\n",
    "COUNTRY = ['Japan', 'United States of America', 'China',]"
   ]
  },
  {
   "cell_type": "markdown",
   "metadata": {},
   "source": [
    "### CALC_COUNTRY_FIELD\n",
    "集計する国の項目"
   ]
  },
  {
   "cell_type": "code",
   "execution_count": null,
   "metadata": {},
   "outputs": [],
   "source": [
    "COUNTRY_FIELD = 'ADM0_NAME'\n",
    "DATE_FIELD = 'date'  # date_epicrvの値をdatetime型にしたものを動的に設定する列名"
   ]
  },
  {
   "cell_type": "markdown",
   "metadata": {},
   "source": [
    "## 定数、変数"
   ]
  },
  {
   "cell_type": "code",
   "execution_count": null,
   "metadata": {},
   "outputs": [],
   "source": [
    "DATA_FILE = 'COVID-19-global-data.csv'"
   ]
  },
  {
   "cell_type": "markdown",
   "metadata": {},
   "source": [
    "# COVID-19のデータファイルを読み取り"
   ]
  },
  {
   "cell_type": "code",
   "execution_count": null,
   "metadata": {},
   "outputs": [],
   "source": [
    "df = pd.read_csv(DATA_FILE)"
   ]
  },
  {
   "cell_type": "code",
   "execution_count": null,
   "metadata": {},
   "outputs": [],
   "source": [
    "# [DEBUG] CSVの列名を表示\n",
    "df.columns"
   ]
  },
  {
   "cell_type": "code",
   "execution_count": null,
   "metadata": {},
   "outputs": [],
   "source": [
    "# [DEBUG] CSVの先頭行を表示\n",
    "df.head()"
   ]
  },
  {
   "cell_type": "code",
   "execution_count": null,
   "metadata": {},
   "outputs": [],
   "source": [
    "# [DEBUG] CSVの末尾行を表示\n",
    "df.tail()"
   ]
  },
  {
   "cell_type": "markdown",
   "metadata": {},
   "source": [
    "# COVID-19のデータを加工"
   ]
  },
  {
   "cell_type": "code",
   "execution_count": null,
   "metadata": {},
   "outputs": [],
   "source": [
    "for idx, row in df.iterrows():\n",
    "    # 日付のフィールド（文字列）を日付型にする\n",
    "    fix_date = None\n",
    "    if not pd.isnull(row['date_epicrv']):\n",
    "        date_epicrv = datetime.datetime.strptime(row['date_epicrv'], '%Y-%m-%dT%H:%M:%S.%fZ')\n",
    "    df.at[idx, DATE_FIELD] = date_epicrv\n",
    "    # 通しに「id」の別名をつける\n",
    "    \n",
    "    df.at[idx, 'id'] = idx"
   ]
  },
  {
   "cell_type": "code",
   "execution_count": null,
   "metadata": {},
   "outputs": [],
   "source": [
    "# [DEBUG] 加工したデータの先頭行を表示\n",
    "df.head()"
   ]
  },
  {
   "cell_type": "code",
   "execution_count": null,
   "metadata": {},
   "outputs": [],
   "source": [
    "# [DEBUG] データの列名を表示\n",
    "# for col in df.columns:\n",
    "#     print(col)"
   ]
  },
  {
   "cell_type": "markdown",
   "metadata": {},
   "source": [
    "# COVID-19のデータから対象データをフィルターする\n",
    "※対象外のデータを除外する"
   ]
  },
  {
   "cell_type": "code",
   "execution_count": null,
   "metadata": {},
   "outputs": [],
   "source": [
    "df_filter = df"
   ]
  },
  {
   "cell_type": "code",
   "execution_count": null,
   "metadata": {},
   "outputs": [],
   "source": [
    "# 居住地都道府県（英語）がNaNの行を削除する（都道府県以外の国名等が入っているもの）\n",
    "df_filter = df_filter[df_filter[COUNTRY_FIELD].notnull()]"
   ]
  },
  {
   "cell_type": "code",
   "execution_count": null,
   "metadata": {},
   "outputs": [],
   "source": [
    "# ステータスがNaN（死亡でも退院でもない）の行のみ抽出する場合は、次の行を有効にする\n",
    "# df_filter = df_filter[df_filter['ステータス'].isnull()]"
   ]
  },
  {
   "cell_type": "code",
   "execution_count": null,
   "metadata": {},
   "outputs": [],
   "source": [
    "# [DEBUG] フィルターしたデータの先頭行を表示\n",
    "# df_filter.head()"
   ]
  },
  {
   "cell_type": "code",
   "execution_count": null,
   "metadata": {},
   "outputs": [],
   "source": [
    "# [DEBUG] フィルターしたデータの列名を表示\n",
    "# for col in df_filter.columns:\n",
    "#     print(col)"
   ]
  },
  {
   "cell_type": "markdown",
   "metadata": {},
   "source": [
    "# 件数を集計する"
   ]
  },
  {
   "cell_type": "code",
   "execution_count": null,
   "metadata": {},
   "outputs": [],
   "source": [
    "# df_count = pd.DataFrame(df.groupby([DATE_FIELD, COUNTRY_FIELD]).count()['id']).sort_values([COUNTRY_FIELD, DATE_FIELD])"
   ]
  },
  {
   "cell_type": "code",
   "execution_count": null,
   "metadata": {},
   "outputs": [],
   "source": [
    "# df_count = df_count.reset_index()"
   ]
  },
  {
   "cell_type": "code",
   "execution_count": null,
   "metadata": {},
   "outputs": [],
   "source": [
    "# df_count.head()"
   ]
  },
  {
   "cell_type": "code",
   "execution_count": null,
   "metadata": {},
   "outputs": [],
   "source": [
    "# for idx, row in df_count.iterrows():\n",
    "# #     print(row)\n",
    "#     pass"
   ]
  },
  {
   "cell_type": "markdown",
   "metadata": {},
   "source": [
    "# クエリで使用する日付を YYYY-mm-dd 形式で設定する\n",
    "この日付で都道府県別の件数を取得する"
   ]
  },
  {
   "cell_type": "code",
   "execution_count": null,
   "metadata": {},
   "outputs": [],
   "source": [
    "query_date = DATE\n",
    "\n",
    "if query_date is None:\n",
    "    query_date = datetime.datetime.strftime(df[DATE_FIELD].max(), '%Y-%m-%d')\n",
    "\n",
    "print('クエリで使用する日付 : %s' % (query_date,))"
   ]
  },
  {
   "cell_type": "markdown",
   "metadata": {},
   "source": [
    "# グラフ描画"
   ]
  },
  {
   "cell_type": "markdown",
   "metadata": {},
   "source": [
    "## 国指定、日付ごと新規感染者数"
   ]
  },
  {
   "cell_type": "code",
   "execution_count": null,
   "metadata": {},
   "outputs": [],
   "source": [
    "# query = 'residence_pref in %s' % json.dumps(PREF)\n",
    "query = '%s in %s' % (COUNTRY_FIELD, json.dumps(COUNTRY),)\n",
    "df_graph = df.query(query)"
   ]
  },
  {
   "cell_type": "code",
   "execution_count": null,
   "metadata": {},
   "outputs": [],
   "source": [
    "df_graph.head()"
   ]
  },
  {
   "cell_type": "code",
   "execution_count": null,
   "metadata": {},
   "outputs": [],
   "source": [
    "# fig, ax = plt.subplots(figsize=(20, 10))\n",
    "\n",
    "fig, ax = plt.subplots(figsize=(10, 5))\n",
    "# ax.set_xticklabels('', rotation=90)\n",
    "plt.xticks(rotation=90)\n",
    "\n",
    "y_max = int((int(df_graph['NewCase'].max() / 50) + 1) * 50)\n",
    "ax.set(ylim = (0, y_max))\n",
    "\n",
    "sns.lineplot(\n",
    "    ax=ax,\n",
    "    data=df_graph,\n",
    "    x=DATE_FIELD,\n",
    "    y='NewCase',\n",
    "    hue=COUNTRY_FIELD)"
   ]
  },
  {
   "cell_type": "markdown",
   "metadata": {},
   "source": [
    "## 国指定、日付ごと累計感染者数"
   ]
  },
  {
   "cell_type": "code",
   "execution_count": null,
   "metadata": {},
   "outputs": [],
   "source": [
    "# query = 'residence_pref in %s' % json.dumps(PREF)\n",
    "query = '%s in %s' % (COUNTRY_FIELD, json.dumps(COUNTRY),)\n",
    "df_graph = df.query(query)"
   ]
  },
  {
   "cell_type": "code",
   "execution_count": null,
   "metadata": {},
   "outputs": [],
   "source": [
    "# df_graph.head()"
   ]
  },
  {
   "cell_type": "code",
   "execution_count": null,
   "metadata": {},
   "outputs": [],
   "source": [
    "# fig, ax = plt.subplots(figsize=(20, 10))\n",
    "\n",
    "fig, ax = plt.subplots(figsize=(10, 5))\n",
    "# ax.set_xticklabels('', rotation=90)\n",
    "plt.xticks(rotation=90)\n",
    "\n",
    "y_max = int((int(df_graph['CumCase'].max() / 1000) + 1) * 1000)\n",
    "ax.set(ylim = (0, y_max))\n",
    "\n",
    "sns.lineplot(\n",
    "    ax=ax,\n",
    "    data=df_graph,\n",
    "    x=DATE_FIELD,\n",
    "    y='CumCase',\n",
    "    hue=COUNTRY_FIELD)"
   ]
  },
  {
   "cell_type": "markdown",
   "metadata": {},
   "source": [
    "## 日付指定、国ごとの新規感染者数\n",
    "\n",
    "指定された日付（日付の指定が`None`の場合は、データファイルの最終日付）における、国別の新規感染者数をグラフ化"
   ]
  },
  {
   "cell_type": "code",
   "execution_count": null,
   "metadata": {},
   "outputs": [],
   "source": [
    "query = '%s == %s' % (DATE_FIELD, json.dumps(query_date),)\n",
    "df_graph = df.query(query).sort_values(['NewCase'], ascending=False)"
   ]
  },
  {
   "cell_type": "code",
   "execution_count": null,
   "metadata": {},
   "outputs": [],
   "source": [
    "df_graph.head()"
   ]
  },
  {
   "cell_type": "code",
   "execution_count": null,
   "metadata": {},
   "outputs": [],
   "source": [
    "# # [DEBUG] ファイルの最終日付における、国別の新規感染者数を一覧表示\n",
    "# for idx, row in df_graph.iterrows():\n",
    "#     fix_date = datetime.datetime.strftime(row[DATE_FIELD], '%Y-%m-%d')\n",
    "#     print('%s,%s,%d' % (fix_date,row[COUNTRY_FIELD],row['NewCase']))"
   ]
  },
  {
   "cell_type": "code",
   "execution_count": null,
   "metadata": {},
   "outputs": [],
   "source": [
    "# fig, ax = plt.subplots(figsize=(20, 10))\n",
    "\n",
    "fig, ax = plt.subplots(figsize=(50, 20))\n",
    "# ax.set_xticklabels('', rotation=90)\n",
    "plt.xticks(rotation=90)\n",
    "\n",
    "y_max = (int(df_graph['NewCase'].max() / 10000) + 1) * 10000\n",
    "ax.set(ylim = (0, y_max))\n",
    "\n",
    "sns.barplot(\n",
    "    ax=ax,\n",
    "    data=df_graph,\n",
    "    x=COUNTRY_FIELD,\n",
    "    y='NewCase')"
   ]
  },
  {
   "cell_type": "code",
   "execution_count": null,
   "metadata": {},
   "outputs": [],
   "source": [
    "print('query_date : %s' % (query_date,))"
   ]
  },
  {
   "cell_type": "markdown",
   "metadata": {},
   "source": [
    "## 日付指定、国ごとの新規感染者数\n",
    "\n",
    "指定された日付（日付の指定が`None`の場合は、データファイルの最終日付）における、国別の累積感染者数をグラフ化"
   ]
  },
  {
   "cell_type": "code",
   "execution_count": null,
   "metadata": {},
   "outputs": [],
   "source": [
    "query = '%s == %s' % (DATE_FIELD, json.dumps(query_date),)\n",
    "df_graph = df.query(query).sort_values(['CumCase'], ascending=False)"
   ]
  },
  {
   "cell_type": "code",
   "execution_count": null,
   "metadata": {},
   "outputs": [],
   "source": [
    "df_graph.head()"
   ]
  },
  {
   "cell_type": "code",
   "execution_count": null,
   "metadata": {},
   "outputs": [],
   "source": [
    "# # [DEBUG] ファイルの最終日付における、国別の累積感染者数を一覧表示\n",
    "# for idx, row in df_graph.iterrows():\n",
    "#     fix_date = datetime.datetime.strftime(row[DATE_FIELD], '%Y-%m-%d')\n",
    "#     print('%s,%s,%d' % (fix_date,row[COUNTRY_FIELD],row['CumCase']))"
   ]
  },
  {
   "cell_type": "code",
   "execution_count": null,
   "metadata": {},
   "outputs": [],
   "source": [
    "# fig, ax = plt.subplots(figsize=(20, 10))\n",
    "\n",
    "fig, ax = plt.subplots(figsize=(50, 20))\n",
    "# ax.set_xticklabels('', rotation=90)\n",
    "plt.xticks(rotation=90)\n",
    "\n",
    "y_max = (int(df_graph['CumCase'].max() / 100000) + 1) * 100000\n",
    "ax.set(ylim = (0, y_max))\n",
    "\n",
    "sns.barplot(\n",
    "    ax=ax,\n",
    "    data=df_graph,\n",
    "    x=COUNTRY_FIELD,\n",
    "    y='CumCase')"
   ]
  },
  {
   "cell_type": "code",
   "execution_count": null,
   "metadata": {},
   "outputs": [],
   "source": []
  }
 ],
 "metadata": {
  "kernelspec": {
   "display_name": "Python 3",
   "language": "python",
   "name": "python3"
  },
  "language_info": {
   "codemirror_mode": {
    "name": "ipython",
    "version": 3
   },
   "file_extension": ".py",
   "mimetype": "text/x-python",
   "name": "python",
   "nbconvert_exporter": "python",
   "pygments_lexer": "ipython3",
   "version": "3.8.2"
  }
 },
 "nbformat": 4,
 "nbformat_minor": 4
}
