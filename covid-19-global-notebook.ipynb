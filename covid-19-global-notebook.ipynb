{
 "cells": [
  {
   "cell_type": "markdown",
   "metadata": {},
   "source": [
    "# 初めにお読みください。\n",
    "\n",
    "このシートを動かすためには、事前にCSVデータをダウンロードする必要があります。\n",
    "\n",
    "データファイルを直接curl等でダウンロードできないため、まず、ブラウザで  \n",
    "[https://docs.google.com/spreadsheets/d/e/2PACX-1vSe-8lf6l_ShJHvd126J-jGti992SUbNLu-kmJfx1IRkvma_r4DHi0bwEW89opArs8ZkSY5G2-Bc1yT/pub?gid=0&single=true&output=csv](https://docs.google.com/spreadsheets/d/e/2PACX-1vSe-8lf6l_ShJHvd126J-jGti992SUbNLu-kmJfx1IRkvma_r4DHi0bwEW89opArs8ZkSY5G2-Bc1yT/pub?gid=0&single=true&output=csv)  \n",
    "へアクセスしてください。\n",
    "\n",
    "すると、CSVファイルがダウンロードできるため、ファイル名を `COVID-19-global-data.csv` として、このREADMEを置いているフォルダへ保存してください。\n",
    "\n",
    "Google Colaboratoryで動かすには、上記でダウンロードしたファイルを、ノートブックと同じ場所にアップロードしてください。"
   ]
  },
  {
   "cell_type": "code",
   "execution_count": 1,
   "metadata": {},
   "outputs": [
    {
     "name": "stderr",
     "output_type": "stream",
     "text": [
      "/home/murakami/.pyenv/versions/3.8.2/envs/covid-19/lib/python3.8/site-packages/pandas/compat/__init__.py:117: UserWarning: Could not import the lzma module. Your installed Python is incomplete. Attempting to use lzma compression will result in a RuntimeError.\n",
      "  warnings.warn(msg)\n"
     ]
    }
   ],
   "source": [
    "import numpy as np\n",
    "import pandas as pd\n",
    "import seaborn as sns\n",
    "from typing import Dict, List\n",
    "import datetime\n",
    "import json\n",
    "import matplotlib.pyplot as plt\n",
    "import urllib.request"
   ]
  },
  {
   "cell_type": "markdown",
   "metadata": {},
   "source": [
    "# 定数"
   ]
  },
  {
   "cell_type": "markdown",
   "metadata": {},
   "source": [
    "## 挙動の定義"
   ]
  },
  {
   "cell_type": "markdown",
   "metadata": {},
   "source": [
    "### DATE\n",
    "ある日付での都道府県ごとの件数を表示する際、日付を指定。\n",
    "- ファイルの中の最終日を指定する場合はNoneを設定\n",
    "- 特定の日付を指定する場合は、「YYYY-MM-DD」形式の文字列を設定"
   ]
  },
  {
   "cell_type": "code",
   "execution_count": 2,
   "metadata": {},
   "outputs": [],
   "source": [
    "DATE = None\n",
    "# DATE = '2020-04-05'"
   ]
  },
  {
   "cell_type": "markdown",
   "metadata": {},
   "source": [
    "### COUNTRY\n",
    "ある国での日別の件数を表示する際の、国を指定。  \n",
    "英語表記で指定する。  \n",
    "データファイルの `ADM0_NAME` の列を参照。"
   ]
  },
  {
   "cell_type": "code",
   "execution_count": 3,
   "metadata": {},
   "outputs": [],
   "source": [
    "# 1つの都道府県だけで見たい場合：要素が1つだけのリストで定義\n",
    "COUNTRY = ['Japan']\n",
    "# 緊急事態宣言を発令した都道府県（愛知県も入りそうなので入れておく）\n",
    "# COUNTRY = ['Japan', 'United States of America', 'China',]"
   ]
  },
  {
   "cell_type": "markdown",
   "metadata": {},
   "source": [
    "### CALC_COUNTRY_FIELD\n",
    "集計する国の項目"
   ]
  },
  {
   "cell_type": "code",
   "execution_count": 4,
   "metadata": {},
   "outputs": [],
   "source": [
    "COUNTRY_FIELD = 'ADM0_NAME'\n",
    "DATE_FIELD = 'date'  # date_epicrvの値をdatetime型にしたものを動的に設定する列名"
   ]
  },
  {
   "cell_type": "markdown",
   "metadata": {},
   "source": [
    "## 定数、変数"
   ]
  },
  {
   "cell_type": "code",
   "execution_count": 5,
   "metadata": {},
   "outputs": [],
   "source": [
    "DATA_FILE = 'COVID-19-global-data.csv'"
   ]
  },
  {
   "cell_type": "markdown",
   "metadata": {},
   "source": [
    "# COVID-19のデータファイルを読み取り"
   ]
  },
  {
   "cell_type": "code",
   "execution_count": 6,
   "metadata": {},
   "outputs": [],
   "source": [
    "df = pd.read_csv(DATA_FILE)"
   ]
  },
  {
   "cell_type": "code",
   "execution_count": 7,
   "metadata": {},
   "outputs": [
    {
     "data": {
      "text/plain": [
       "Index(['OBJECTID', 'ISO_2_CODE', 'ISO_3_CODE', 'ADM0_NAME', 'date_epicrv',\n",
       "       'NewCase', 'CumCase', 'NewDeath', 'CumDeath', 'Short_Name_ZH',\n",
       "       'Short_Name_FR', 'Short_Name_ES', 'Short_Name_RU', 'Short_Name_AR'],\n",
       "      dtype='object')"
      ]
     },
     "execution_count": 7,
     "metadata": {},
     "output_type": "execute_result"
    }
   ],
   "source": [
    "# [DEBUG] CSVの列名を表示\n",
    "df.columns"
   ]
  },
  {
   "cell_type": "code",
   "execution_count": 8,
   "metadata": {},
   "outputs": [
    {
     "data": {
      "text/html": [
       "<div>\n",
       "<style scoped>\n",
       "    .dataframe tbody tr th:only-of-type {\n",
       "        vertical-align: middle;\n",
       "    }\n",
       "\n",
       "    .dataframe tbody tr th {\n",
       "        vertical-align: top;\n",
       "    }\n",
       "\n",
       "    .dataframe thead th {\n",
       "        text-align: right;\n",
       "    }\n",
       "</style>\n",
       "<table border=\"1\" class=\"dataframe\">\n",
       "  <thead>\n",
       "    <tr style=\"text-align: right;\">\n",
       "      <th></th>\n",
       "      <th>OBJECTID</th>\n",
       "      <th>ISO_2_CODE</th>\n",
       "      <th>ISO_3_CODE</th>\n",
       "      <th>ADM0_NAME</th>\n",
       "      <th>date_epicrv</th>\n",
       "      <th>NewCase</th>\n",
       "      <th>CumCase</th>\n",
       "      <th>NewDeath</th>\n",
       "      <th>CumDeath</th>\n",
       "      <th>Short_Name_ZH</th>\n",
       "      <th>Short_Name_FR</th>\n",
       "      <th>Short_Name_ES</th>\n",
       "      <th>Short_Name_RU</th>\n",
       "      <th>Short_Name_AR</th>\n",
       "    </tr>\n",
       "  </thead>\n",
       "  <tbody>\n",
       "    <tr>\n",
       "      <th>0</th>\n",
       "      <td>1</td>\n",
       "      <td>AF</td>\n",
       "      <td>AFG</td>\n",
       "      <td>Afghanistan</td>\n",
       "      <td>2020-02-24T00:00:00.000Z</td>\n",
       "      <td>1</td>\n",
       "      <td>1</td>\n",
       "      <td>0</td>\n",
       "      <td>0</td>\n",
       "      <td>阿富汗</td>\n",
       "      <td>Afghanistan</td>\n",
       "      <td>Afganistán</td>\n",
       "      <td>Афганистан</td>\n",
       "      <td>أفغانستان</td>\n",
       "    </tr>\n",
       "    <tr>\n",
       "      <th>1</th>\n",
       "      <td>2</td>\n",
       "      <td>AF</td>\n",
       "      <td>AFG</td>\n",
       "      <td>Afghanistan</td>\n",
       "      <td>2020-02-25T00:00:00.000Z</td>\n",
       "      <td>0</td>\n",
       "      <td>1</td>\n",
       "      <td>0</td>\n",
       "      <td>0</td>\n",
       "      <td>阿富汗</td>\n",
       "      <td>Afghanistan</td>\n",
       "      <td>Afganistán</td>\n",
       "      <td>Афганистан</td>\n",
       "      <td>أفغانستان</td>\n",
       "    </tr>\n",
       "    <tr>\n",
       "      <th>2</th>\n",
       "      <td>3</td>\n",
       "      <td>AF</td>\n",
       "      <td>AFG</td>\n",
       "      <td>Afghanistan</td>\n",
       "      <td>2020-02-26T00:00:00.000Z</td>\n",
       "      <td>0</td>\n",
       "      <td>1</td>\n",
       "      <td>0</td>\n",
       "      <td>0</td>\n",
       "      <td>阿富汗</td>\n",
       "      <td>Afghanistan</td>\n",
       "      <td>Afganistán</td>\n",
       "      <td>Афганистан</td>\n",
       "      <td>أفغانستان</td>\n",
       "    </tr>\n",
       "    <tr>\n",
       "      <th>3</th>\n",
       "      <td>4</td>\n",
       "      <td>AF</td>\n",
       "      <td>AFG</td>\n",
       "      <td>Afghanistan</td>\n",
       "      <td>2020-02-27T00:00:00.000Z</td>\n",
       "      <td>0</td>\n",
       "      <td>1</td>\n",
       "      <td>0</td>\n",
       "      <td>0</td>\n",
       "      <td>阿富汗</td>\n",
       "      <td>Afghanistan</td>\n",
       "      <td>Afganistán</td>\n",
       "      <td>Афганистан</td>\n",
       "      <td>أفغانستان</td>\n",
       "    </tr>\n",
       "    <tr>\n",
       "      <th>4</th>\n",
       "      <td>5</td>\n",
       "      <td>AF</td>\n",
       "      <td>AFG</td>\n",
       "      <td>Afghanistan</td>\n",
       "      <td>2020-02-28T00:00:00.000Z</td>\n",
       "      <td>0</td>\n",
       "      <td>1</td>\n",
       "      <td>0</td>\n",
       "      <td>0</td>\n",
       "      <td>阿富汗</td>\n",
       "      <td>Afghanistan</td>\n",
       "      <td>Afganistán</td>\n",
       "      <td>Афганистан</td>\n",
       "      <td>أفغانستان</td>\n",
       "    </tr>\n",
       "  </tbody>\n",
       "</table>\n",
       "</div>"
      ],
      "text/plain": [
       "   OBJECTID ISO_2_CODE ISO_3_CODE    ADM0_NAME               date_epicrv  \\\n",
       "0         1         AF        AFG  Afghanistan  2020-02-24T00:00:00.000Z   \n",
       "1         2         AF        AFG  Afghanistan  2020-02-25T00:00:00.000Z   \n",
       "2         3         AF        AFG  Afghanistan  2020-02-26T00:00:00.000Z   \n",
       "3         4         AF        AFG  Afghanistan  2020-02-27T00:00:00.000Z   \n",
       "4         5         AF        AFG  Afghanistan  2020-02-28T00:00:00.000Z   \n",
       "\n",
       "   NewCase  CumCase  NewDeath  CumDeath Short_Name_ZH Short_Name_FR  \\\n",
       "0        1        1         0         0           阿富汗   Afghanistan   \n",
       "1        0        1         0         0           阿富汗   Afghanistan   \n",
       "2        0        1         0         0           阿富汗   Afghanistan   \n",
       "3        0        1         0         0           阿富汗   Afghanistan   \n",
       "4        0        1         0         0           阿富汗   Afghanistan   \n",
       "\n",
       "  Short_Name_ES Short_Name_RU Short_Name_AR  \n",
       "0    Afganistán    Афганистан     أفغانستان  \n",
       "1    Afganistán    Афганистан     أفغانستان  \n",
       "2    Afganistán    Афганистан     أفغانستان  \n",
       "3    Afganistán    Афганистан     أفغانستان  \n",
       "4    Afganistán    Афганистан     أفغانستان  "
      ]
     },
     "execution_count": 8,
     "metadata": {},
     "output_type": "execute_result"
    }
   ],
   "source": [
    "# [DEBUG] CSVの先頭行を表示\n",
    "df.head()"
   ]
  },
  {
   "cell_type": "code",
   "execution_count": 9,
   "metadata": {},
   "outputs": [
    {
     "data": {
      "text/html": [
       "<div>\n",
       "<style scoped>\n",
       "    .dataframe tbody tr th:only-of-type {\n",
       "        vertical-align: middle;\n",
       "    }\n",
       "\n",
       "    .dataframe tbody tr th {\n",
       "        vertical-align: top;\n",
       "    }\n",
       "\n",
       "    .dataframe thead th {\n",
       "        text-align: right;\n",
       "    }\n",
       "</style>\n",
       "<table border=\"1\" class=\"dataframe\">\n",
       "  <thead>\n",
       "    <tr style=\"text-align: right;\">\n",
       "      <th></th>\n",
       "      <th>OBJECTID</th>\n",
       "      <th>ISO_2_CODE</th>\n",
       "      <th>ISO_3_CODE</th>\n",
       "      <th>ADM0_NAME</th>\n",
       "      <th>date_epicrv</th>\n",
       "      <th>NewCase</th>\n",
       "      <th>CumCase</th>\n",
       "      <th>NewDeath</th>\n",
       "      <th>CumDeath</th>\n",
       "      <th>Short_Name_ZH</th>\n",
       "      <th>Short_Name_FR</th>\n",
       "      <th>Short_Name_ES</th>\n",
       "      <th>Short_Name_RU</th>\n",
       "      <th>Short_Name_AR</th>\n",
       "    </tr>\n",
       "  </thead>\n",
       "  <tbody>\n",
       "    <tr>\n",
       "      <th>12014</th>\n",
       "      <td>12015</td>\n",
       "      <td>ZW</td>\n",
       "      <td>ZWE</td>\n",
       "      <td>Zimbabwe</td>\n",
       "      <td>2020-04-26T00:00:00.000Z</td>\n",
       "      <td>2</td>\n",
       "      <td>31</td>\n",
       "      <td>0</td>\n",
       "      <td>4</td>\n",
       "      <td>津巴布韦</td>\n",
       "      <td>Zimbabwe</td>\n",
       "      <td>Zimbabwe</td>\n",
       "      <td>Зимбабве</td>\n",
       "      <td>زمبابوي</td>\n",
       "    </tr>\n",
       "    <tr>\n",
       "      <th>12015</th>\n",
       "      <td>12016</td>\n",
       "      <td>ZW</td>\n",
       "      <td>ZWE</td>\n",
       "      <td>Zimbabwe</td>\n",
       "      <td>2020-04-27T00:00:00.000Z</td>\n",
       "      <td>0</td>\n",
       "      <td>31</td>\n",
       "      <td>0</td>\n",
       "      <td>4</td>\n",
       "      <td>津巴布韦</td>\n",
       "      <td>Zimbabwe</td>\n",
       "      <td>Zimbabwe</td>\n",
       "      <td>Зимбабве</td>\n",
       "      <td>زمبابوي</td>\n",
       "    </tr>\n",
       "    <tr>\n",
       "      <th>12016</th>\n",
       "      <td>12017</td>\n",
       "      <td>ZW</td>\n",
       "      <td>ZWE</td>\n",
       "      <td>Zimbabwe</td>\n",
       "      <td>2020-04-28T00:00:00.000Z</td>\n",
       "      <td>0</td>\n",
       "      <td>31</td>\n",
       "      <td>0</td>\n",
       "      <td>4</td>\n",
       "      <td>津巴布韦</td>\n",
       "      <td>Zimbabwe</td>\n",
       "      <td>Zimbabwe</td>\n",
       "      <td>Зимбабве</td>\n",
       "      <td>زمبابوي</td>\n",
       "    </tr>\n",
       "    <tr>\n",
       "      <th>12017</th>\n",
       "      <td>12018</td>\n",
       "      <td>ZW</td>\n",
       "      <td>ZWE</td>\n",
       "      <td>Zimbabwe</td>\n",
       "      <td>2020-04-29T00:00:00.000Z</td>\n",
       "      <td>1</td>\n",
       "      <td>32</td>\n",
       "      <td>0</td>\n",
       "      <td>4</td>\n",
       "      <td>津巴布韦</td>\n",
       "      <td>Zimbabwe</td>\n",
       "      <td>Zimbabwe</td>\n",
       "      <td>Зимбабве</td>\n",
       "      <td>زمبابوي</td>\n",
       "    </tr>\n",
       "    <tr>\n",
       "      <th>12018</th>\n",
       "      <td>12019</td>\n",
       "      <td>ZW</td>\n",
       "      <td>ZWE</td>\n",
       "      <td>Zimbabwe</td>\n",
       "      <td>2020-04-30T00:00:00.000Z</td>\n",
       "      <td>0</td>\n",
       "      <td>32</td>\n",
       "      <td>0</td>\n",
       "      <td>4</td>\n",
       "      <td>津巴布韦</td>\n",
       "      <td>Zimbabwe</td>\n",
       "      <td>Zimbabwe</td>\n",
       "      <td>Зимбабве</td>\n",
       "      <td>زمبابوي</td>\n",
       "    </tr>\n",
       "  </tbody>\n",
       "</table>\n",
       "</div>"
      ],
      "text/plain": [
       "       OBJECTID ISO_2_CODE ISO_3_CODE ADM0_NAME               date_epicrv  \\\n",
       "12014     12015         ZW        ZWE  Zimbabwe  2020-04-26T00:00:00.000Z   \n",
       "12015     12016         ZW        ZWE  Zimbabwe  2020-04-27T00:00:00.000Z   \n",
       "12016     12017         ZW        ZWE  Zimbabwe  2020-04-28T00:00:00.000Z   \n",
       "12017     12018         ZW        ZWE  Zimbabwe  2020-04-29T00:00:00.000Z   \n",
       "12018     12019         ZW        ZWE  Zimbabwe  2020-04-30T00:00:00.000Z   \n",
       "\n",
       "       NewCase  CumCase  NewDeath  CumDeath Short_Name_ZH Short_Name_FR  \\\n",
       "12014        2       31         0         4          津巴布韦      Zimbabwe   \n",
       "12015        0       31         0         4          津巴布韦      Zimbabwe   \n",
       "12016        0       31         0         4          津巴布韦      Zimbabwe   \n",
       "12017        1       32         0         4          津巴布韦      Zimbabwe   \n",
       "12018        0       32         0         4          津巴布韦      Zimbabwe   \n",
       "\n",
       "      Short_Name_ES Short_Name_RU Short_Name_AR  \n",
       "12014      Zimbabwe      Зимбабве       زمبابوي  \n",
       "12015      Zimbabwe      Зимбабве       زمبابوي  \n",
       "12016      Zimbabwe      Зимбабве       زمبابوي  \n",
       "12017      Zimbabwe      Зимбабве       زمبابوي  \n",
       "12018      Zimbabwe      Зимбабве       زمبابوي  "
      ]
     },
     "execution_count": 9,
     "metadata": {},
     "output_type": "execute_result"
    }
   ],
   "source": [
    "# [DEBUG] CSVの末尾行を表示\n",
    "df.tail()"
   ]
  },
  {
   "cell_type": "markdown",
   "metadata": {},
   "source": [
    "# COVID-19のデータを加工"
   ]
  },
  {
   "cell_type": "code",
   "execution_count": 10,
   "metadata": {},
   "outputs": [],
   "source": [
    "for idx, row in df.iterrows():\n",
    "    # 日付のフィールド（文字列）を日付型にする\n",
    "    fix_date = None\n",
    "    if not pd.isnull(row['date_epicrv']):\n",
    "        date_epicrv = datetime.datetime.strptime(row['date_epicrv'], '%Y-%m-%dT%H:%M:%S.%fZ')\n",
    "    df.at[idx, DATE_FIELD] = date_epicrv\n",
    "    # 通しに「id」の別名をつける\n",
    "    \n",
    "    df.at[idx, 'id'] = idx"
   ]
  },
  {
   "cell_type": "code",
   "execution_count": 11,
   "metadata": {},
   "outputs": [
    {
     "data": {
      "text/html": [
       "<div>\n",
       "<style scoped>\n",
       "    .dataframe tbody tr th:only-of-type {\n",
       "        vertical-align: middle;\n",
       "    }\n",
       "\n",
       "    .dataframe tbody tr th {\n",
       "        vertical-align: top;\n",
       "    }\n",
       "\n",
       "    .dataframe thead th {\n",
       "        text-align: right;\n",
       "    }\n",
       "</style>\n",
       "<table border=\"1\" class=\"dataframe\">\n",
       "  <thead>\n",
       "    <tr style=\"text-align: right;\">\n",
       "      <th></th>\n",
       "      <th>OBJECTID</th>\n",
       "      <th>ISO_2_CODE</th>\n",
       "      <th>ISO_3_CODE</th>\n",
       "      <th>ADM0_NAME</th>\n",
       "      <th>date_epicrv</th>\n",
       "      <th>NewCase</th>\n",
       "      <th>CumCase</th>\n",
       "      <th>NewDeath</th>\n",
       "      <th>CumDeath</th>\n",
       "      <th>Short_Name_ZH</th>\n",
       "      <th>Short_Name_FR</th>\n",
       "      <th>Short_Name_ES</th>\n",
       "      <th>Short_Name_RU</th>\n",
       "      <th>Short_Name_AR</th>\n",
       "      <th>date</th>\n",
       "      <th>id</th>\n",
       "    </tr>\n",
       "  </thead>\n",
       "  <tbody>\n",
       "    <tr>\n",
       "      <th>0</th>\n",
       "      <td>1</td>\n",
       "      <td>AF</td>\n",
       "      <td>AFG</td>\n",
       "      <td>Afghanistan</td>\n",
       "      <td>2020-02-24T00:00:00.000Z</td>\n",
       "      <td>1</td>\n",
       "      <td>1</td>\n",
       "      <td>0</td>\n",
       "      <td>0</td>\n",
       "      <td>阿富汗</td>\n",
       "      <td>Afghanistan</td>\n",
       "      <td>Afganistán</td>\n",
       "      <td>Афганистан</td>\n",
       "      <td>أفغانستان</td>\n",
       "      <td>2020-02-24</td>\n",
       "      <td>0.0</td>\n",
       "    </tr>\n",
       "    <tr>\n",
       "      <th>1</th>\n",
       "      <td>2</td>\n",
       "      <td>AF</td>\n",
       "      <td>AFG</td>\n",
       "      <td>Afghanistan</td>\n",
       "      <td>2020-02-25T00:00:00.000Z</td>\n",
       "      <td>0</td>\n",
       "      <td>1</td>\n",
       "      <td>0</td>\n",
       "      <td>0</td>\n",
       "      <td>阿富汗</td>\n",
       "      <td>Afghanistan</td>\n",
       "      <td>Afganistán</td>\n",
       "      <td>Афганистан</td>\n",
       "      <td>أفغانستان</td>\n",
       "      <td>2020-02-25</td>\n",
       "      <td>1.0</td>\n",
       "    </tr>\n",
       "    <tr>\n",
       "      <th>2</th>\n",
       "      <td>3</td>\n",
       "      <td>AF</td>\n",
       "      <td>AFG</td>\n",
       "      <td>Afghanistan</td>\n",
       "      <td>2020-02-26T00:00:00.000Z</td>\n",
       "      <td>0</td>\n",
       "      <td>1</td>\n",
       "      <td>0</td>\n",
       "      <td>0</td>\n",
       "      <td>阿富汗</td>\n",
       "      <td>Afghanistan</td>\n",
       "      <td>Afganistán</td>\n",
       "      <td>Афганистан</td>\n",
       "      <td>أفغانستان</td>\n",
       "      <td>2020-02-26</td>\n",
       "      <td>2.0</td>\n",
       "    </tr>\n",
       "    <tr>\n",
       "      <th>3</th>\n",
       "      <td>4</td>\n",
       "      <td>AF</td>\n",
       "      <td>AFG</td>\n",
       "      <td>Afghanistan</td>\n",
       "      <td>2020-02-27T00:00:00.000Z</td>\n",
       "      <td>0</td>\n",
       "      <td>1</td>\n",
       "      <td>0</td>\n",
       "      <td>0</td>\n",
       "      <td>阿富汗</td>\n",
       "      <td>Afghanistan</td>\n",
       "      <td>Afganistán</td>\n",
       "      <td>Афганистан</td>\n",
       "      <td>أفغانستان</td>\n",
       "      <td>2020-02-27</td>\n",
       "      <td>3.0</td>\n",
       "    </tr>\n",
       "    <tr>\n",
       "      <th>4</th>\n",
       "      <td>5</td>\n",
       "      <td>AF</td>\n",
       "      <td>AFG</td>\n",
       "      <td>Afghanistan</td>\n",
       "      <td>2020-02-28T00:00:00.000Z</td>\n",
       "      <td>0</td>\n",
       "      <td>1</td>\n",
       "      <td>0</td>\n",
       "      <td>0</td>\n",
       "      <td>阿富汗</td>\n",
       "      <td>Afghanistan</td>\n",
       "      <td>Afganistán</td>\n",
       "      <td>Афганистан</td>\n",
       "      <td>أفغانستان</td>\n",
       "      <td>2020-02-28</td>\n",
       "      <td>4.0</td>\n",
       "    </tr>\n",
       "  </tbody>\n",
       "</table>\n",
       "</div>"
      ],
      "text/plain": [
       "   OBJECTID ISO_2_CODE ISO_3_CODE    ADM0_NAME               date_epicrv  \\\n",
       "0         1         AF        AFG  Afghanistan  2020-02-24T00:00:00.000Z   \n",
       "1         2         AF        AFG  Afghanistan  2020-02-25T00:00:00.000Z   \n",
       "2         3         AF        AFG  Afghanistan  2020-02-26T00:00:00.000Z   \n",
       "3         4         AF        AFG  Afghanistan  2020-02-27T00:00:00.000Z   \n",
       "4         5         AF        AFG  Afghanistan  2020-02-28T00:00:00.000Z   \n",
       "\n",
       "   NewCase  CumCase  NewDeath  CumDeath Short_Name_ZH Short_Name_FR  \\\n",
       "0        1        1         0         0           阿富汗   Afghanistan   \n",
       "1        0        1         0         0           阿富汗   Afghanistan   \n",
       "2        0        1         0         0           阿富汗   Afghanistan   \n",
       "3        0        1         0         0           阿富汗   Afghanistan   \n",
       "4        0        1         0         0           阿富汗   Afghanistan   \n",
       "\n",
       "  Short_Name_ES Short_Name_RU Short_Name_AR       date   id  \n",
       "0    Afganistán    Афганистан     أفغانستان 2020-02-24  0.0  \n",
       "1    Afganistán    Афганистан     أفغانستان 2020-02-25  1.0  \n",
       "2    Afganistán    Афганистан     أفغانستان 2020-02-26  2.0  \n",
       "3    Afganistán    Афганистан     أفغانستان 2020-02-27  3.0  \n",
       "4    Afganistán    Афганистан     أفغانستان 2020-02-28  4.0  "
      ]
     },
     "execution_count": 11,
     "metadata": {},
     "output_type": "execute_result"
    }
   ],
   "source": [
    "# [DEBUG] 加工したデータの先頭行を表示\n",
    "df.head()"
   ]
  },
  {
   "cell_type": "code",
   "execution_count": 12,
   "metadata": {},
   "outputs": [],
   "source": [
    "# [DEBUG] データの列名を表示\n",
    "# for col in df.columns:\n",
    "#     print(col)"
   ]
  },
  {
   "cell_type": "markdown",
   "metadata": {},
   "source": [
    "# COVID-19のデータから対象データをフィルターする\n",
    "※対象外のデータを除外する"
   ]
  },
  {
   "cell_type": "code",
   "execution_count": 13,
   "metadata": {},
   "outputs": [],
   "source": [
    "df_filter = df"
   ]
  },
  {
   "cell_type": "code",
   "execution_count": 14,
   "metadata": {},
   "outputs": [],
   "source": [
    "# 居住地都道府県（英語）がNaNの行を削除する（都道府県以外の国名等が入っているもの）\n",
    "df_filter = df_filter[df_filter[COUNTRY_FIELD].notnull()]"
   ]
  },
  {
   "cell_type": "code",
   "execution_count": 15,
   "metadata": {},
   "outputs": [],
   "source": [
    "# ステータスがNaN（死亡でも退院でもない）の行のみ抽出する場合は、次の行を有効にする\n",
    "# df_filter = df_filter[df_filter['ステータス'].isnull()]"
   ]
  },
  {
   "cell_type": "code",
   "execution_count": 16,
   "metadata": {},
   "outputs": [],
   "source": [
    "# [DEBUG] フィルターしたデータの先頭行を表示\n",
    "# df_filter.head()"
   ]
  },
  {
   "cell_type": "code",
   "execution_count": 17,
   "metadata": {},
   "outputs": [],
   "source": [
    "# [DEBUG] フィルターしたデータの列名を表示\n",
    "# for col in df_filter.columns:\n",
    "#     print(col)"
   ]
  },
  {
   "cell_type": "markdown",
   "metadata": {},
   "source": [
    "# 件数を集計する"
   ]
  },
  {
   "cell_type": "code",
   "execution_count": 18,
   "metadata": {},
   "outputs": [],
   "source": [
    "# df_count = pd.DataFrame(df.groupby([DATE_FIELD, COUNTRY_FIELD]).count()['id']).sort_values([COUNTRY_FIELD, DATE_FIELD])"
   ]
  },
  {
   "cell_type": "code",
   "execution_count": 19,
   "metadata": {},
   "outputs": [],
   "source": [
    "# df_count = df_count.reset_index()"
   ]
  },
  {
   "cell_type": "code",
   "execution_count": 20,
   "metadata": {},
   "outputs": [],
   "source": [
    "# df_count.head()"
   ]
  },
  {
   "cell_type": "code",
   "execution_count": 21,
   "metadata": {},
   "outputs": [],
   "source": [
    "# for idx, row in df_count.iterrows():\n",
    "# #     print(row)\n",
    "#     pass"
   ]
  },
  {
   "cell_type": "markdown",
   "metadata": {},
   "source": [
    "# クエリで使用する日付を YYYY-mm-dd 形式で設定する\n",
    "この日付で都道府県別の件数を取得する"
   ]
  },
  {
   "cell_type": "code",
   "execution_count": 22,
   "metadata": {},
   "outputs": [
    {
     "name": "stdout",
     "output_type": "stream",
     "text": [
      "クエリで使用する日付 : 2020-04-30\n"
     ]
    }
   ],
   "source": [
    "query_date = DATE\n",
    "\n",
    "if query_date is None:\n",
    "    query_date = datetime.datetime.strftime(df[DATE_FIELD].max(), '%Y-%m-%d')\n",
    "\n",
    "print('クエリで使用する日付 : %s' % (query_date,))"
   ]
  },
  {
   "cell_type": "markdown",
   "metadata": {},
   "source": [
    "# グラフ描画"
   ]
  },
  {
   "cell_type": "markdown",
   "metadata": {},
   "source": [
    "## 国指定、日付ごと新規感染者数"
   ]
  },
  {
   "cell_type": "code",
   "execution_count": 23,
   "metadata": {},
   "outputs": [],
   "source": [
    "# query = 'residence_pref in %s' % json.dumps(PREF)\n",
    "query = '%s in %s' % (COUNTRY_FIELD, json.dumps(COUNTRY),)\n",
    "df_graph = df.query(query)"
   ]
  },
  {
   "cell_type": "code",
   "execution_count": 24,
   "metadata": {},
   "outputs": [
    {
     "data": {
      "text/html": [
       "<div>\n",
       "<style scoped>\n",
       "    .dataframe tbody tr th:only-of-type {\n",
       "        vertical-align: middle;\n",
       "    }\n",
       "\n",
       "    .dataframe tbody tr th {\n",
       "        vertical-align: top;\n",
       "    }\n",
       "\n",
       "    .dataframe thead th {\n",
       "        text-align: right;\n",
       "    }\n",
       "</style>\n",
       "<table border=\"1\" class=\"dataframe\">\n",
       "  <thead>\n",
       "    <tr style=\"text-align: right;\">\n",
       "      <th></th>\n",
       "      <th>OBJECTID</th>\n",
       "      <th>ISO_2_CODE</th>\n",
       "      <th>ISO_3_CODE</th>\n",
       "      <th>ADM0_NAME</th>\n",
       "      <th>date_epicrv</th>\n",
       "      <th>NewCase</th>\n",
       "      <th>CumCase</th>\n",
       "      <th>NewDeath</th>\n",
       "      <th>CumDeath</th>\n",
       "      <th>Short_Name_ZH</th>\n",
       "      <th>Short_Name_FR</th>\n",
       "      <th>Short_Name_ES</th>\n",
       "      <th>Short_Name_RU</th>\n",
       "      <th>Short_Name_AR</th>\n",
       "      <th>date</th>\n",
       "      <th>id</th>\n",
       "    </tr>\n",
       "  </thead>\n",
       "  <tbody>\n",
       "    <tr>\n",
       "      <th>5746</th>\n",
       "      <td>5747</td>\n",
       "      <td>JP</td>\n",
       "      <td>JPN</td>\n",
       "      <td>Japan</td>\n",
       "      <td>2020-01-14T00:00:00.000Z</td>\n",
       "      <td>1</td>\n",
       "      <td>1</td>\n",
       "      <td>0</td>\n",
       "      <td>0</td>\n",
       "      <td>日本</td>\n",
       "      <td>Japon</td>\n",
       "      <td>Japón</td>\n",
       "      <td>Япония</td>\n",
       "      <td>اليابان</td>\n",
       "      <td>2020-01-14</td>\n",
       "      <td>5746.0</td>\n",
       "    </tr>\n",
       "    <tr>\n",
       "      <th>5747</th>\n",
       "      <td>5748</td>\n",
       "      <td>JP</td>\n",
       "      <td>JPN</td>\n",
       "      <td>Japan</td>\n",
       "      <td>2020-01-15T00:00:00.000Z</td>\n",
       "      <td>0</td>\n",
       "      <td>1</td>\n",
       "      <td>0</td>\n",
       "      <td>0</td>\n",
       "      <td>日本</td>\n",
       "      <td>Japon</td>\n",
       "      <td>Japón</td>\n",
       "      <td>Япония</td>\n",
       "      <td>اليابان</td>\n",
       "      <td>2020-01-15</td>\n",
       "      <td>5747.0</td>\n",
       "    </tr>\n",
       "    <tr>\n",
       "      <th>5748</th>\n",
       "      <td>5749</td>\n",
       "      <td>JP</td>\n",
       "      <td>JPN</td>\n",
       "      <td>Japan</td>\n",
       "      <td>2020-01-16T00:00:00.000Z</td>\n",
       "      <td>0</td>\n",
       "      <td>1</td>\n",
       "      <td>0</td>\n",
       "      <td>0</td>\n",
       "      <td>日本</td>\n",
       "      <td>Japon</td>\n",
       "      <td>Japón</td>\n",
       "      <td>Япония</td>\n",
       "      <td>اليابان</td>\n",
       "      <td>2020-01-16</td>\n",
       "      <td>5748.0</td>\n",
       "    </tr>\n",
       "    <tr>\n",
       "      <th>5749</th>\n",
       "      <td>5750</td>\n",
       "      <td>JP</td>\n",
       "      <td>JPN</td>\n",
       "      <td>Japan</td>\n",
       "      <td>2020-01-17T00:00:00.000Z</td>\n",
       "      <td>0</td>\n",
       "      <td>1</td>\n",
       "      <td>0</td>\n",
       "      <td>0</td>\n",
       "      <td>日本</td>\n",
       "      <td>Japon</td>\n",
       "      <td>Japón</td>\n",
       "      <td>Япония</td>\n",
       "      <td>اليابان</td>\n",
       "      <td>2020-01-17</td>\n",
       "      <td>5749.0</td>\n",
       "    </tr>\n",
       "    <tr>\n",
       "      <th>5750</th>\n",
       "      <td>5751</td>\n",
       "      <td>JP</td>\n",
       "      <td>JPN</td>\n",
       "      <td>Japan</td>\n",
       "      <td>2020-01-18T00:00:00.000Z</td>\n",
       "      <td>0</td>\n",
       "      <td>1</td>\n",
       "      <td>0</td>\n",
       "      <td>0</td>\n",
       "      <td>日本</td>\n",
       "      <td>Japon</td>\n",
       "      <td>Japón</td>\n",
       "      <td>Япония</td>\n",
       "      <td>اليابان</td>\n",
       "      <td>2020-01-18</td>\n",
       "      <td>5750.0</td>\n",
       "    </tr>\n",
       "  </tbody>\n",
       "</table>\n",
       "</div>"
      ],
      "text/plain": [
       "      OBJECTID ISO_2_CODE ISO_3_CODE ADM0_NAME               date_epicrv  \\\n",
       "5746      5747         JP        JPN     Japan  2020-01-14T00:00:00.000Z   \n",
       "5747      5748         JP        JPN     Japan  2020-01-15T00:00:00.000Z   \n",
       "5748      5749         JP        JPN     Japan  2020-01-16T00:00:00.000Z   \n",
       "5749      5750         JP        JPN     Japan  2020-01-17T00:00:00.000Z   \n",
       "5750      5751         JP        JPN     Japan  2020-01-18T00:00:00.000Z   \n",
       "\n",
       "      NewCase  CumCase  NewDeath  CumDeath Short_Name_ZH Short_Name_FR  \\\n",
       "5746        1        1         0         0            日本         Japon   \n",
       "5747        0        1         0         0            日本         Japon   \n",
       "5748        0        1         0         0            日本         Japon   \n",
       "5749        0        1         0         0            日本         Japon   \n",
       "5750        0        1         0         0            日本         Japon   \n",
       "\n",
       "     Short_Name_ES Short_Name_RU Short_Name_AR       date      id  \n",
       "5746         Japón        Япония       اليابان 2020-01-14  5746.0  \n",
       "5747         Japón        Япония       اليابان 2020-01-15  5747.0  \n",
       "5748         Japón        Япония       اليابان 2020-01-16  5748.0  \n",
       "5749         Japón        Япония       اليابان 2020-01-17  5749.0  \n",
       "5750         Japón        Япония       اليابان 2020-01-18  5750.0  "
      ]
     },
     "execution_count": 24,
     "metadata": {},
     "output_type": "execute_result"
    }
   ],
   "source": [
    "df_graph.head()"
   ]
  },
  {
   "cell_type": "code",
   "execution_count": 25,
   "metadata": {},
   "outputs": [
    {
     "data": {
      "text/plain": [
       "<matplotlib.axes._subplots.AxesSubplot at 0x7fbfed235c70>"
      ]
     },
     "execution_count": 25,
     "metadata": {},
     "output_type": "execute_result"
    },
    {
     "data": {
      "image/png": "[encoded data removed]",
      "text/plain": [
       "<Figure size 720x360 with 1 Axes>"
      ]
     },
     "metadata": {
      "needs_background": "light"
     },
     "output_type": "display_data"
    }
   ],
   "source": [
    "# fig, ax = plt.subplots(figsize=(20, 10))\n",
    "\n",
    "fig, ax = plt.subplots(figsize=(10, 5))\n",
    "# ax.set_xticklabels('', rotation=90)\n",
    "plt.xticks(rotation=90)\n",
    "\n",
    "y_max = int((int(df_graph['NewCase'].max() / 50) + 1) * 50)\n",
    "ax.set(ylim = (0, y_max))\n",
    "\n",
    "sns.lineplot(\n",
    "    ax=ax,\n",
    "    data=df_graph,\n",
    "    x=DATE_FIELD,\n",
    "    y='NewCase',\n",
    "    hue=COUNTRY_FIELD)"
   ]
  },
  {
   "cell_type": "markdown",
   "metadata": {},
   "source": [
    "## 国指定、日付ごと累計感染者数"
   ]
  },
  {
   "cell_type": "code",
   "execution_count": 26,
   "metadata": {},
   "outputs": [],
   "source": [
    "# query = 'residence_pref in %s' % json.dumps(PREF)\n",
    "query = '%s in %s' % (COUNTRY_FIELD, json.dumps(COUNTRY),)\n",
    "df_graph = df.query(query)"
   ]
  },
  {
   "cell_type": "code",
   "execution_count": 27,
   "metadata": {},
   "outputs": [],
   "source": [
    "# df_graph.head()"
   ]
  },
  {
   "cell_type": "code",
   "execution_count": 28,
   "metadata": {},
   "outputs": [
    {
     "data": {
      "text/plain": [
       "<matplotlib.axes._subplots.AxesSubplot at 0x7fbfed294fd0>"
      ]
     },
     "execution_count": 28,
     "metadata": {},
     "output_type": "execute_result"
    },
    {
     "data": {
      "image/png": "[encoded data removed]",
      "text/plain": [
       "<Figure size 720x360 with 1 Axes>"
      ]
     },
     "metadata": {
      "needs_background": "light"
     },
     "output_type": "display_data"
    }
   ],
   "source": [
    "# fig, ax = plt.subplots(figsize=(20, 10))\n",
    "\n",
    "fig, ax = plt.subplots(figsize=(10, 5))\n",
    "# ax.set_xticklabels('', rotation=90)\n",
    "plt.xticks(rotation=90)\n",
    "\n",
    "y_max = int((int(df_graph['CumCase'].max() / 1000) + 1) * 1000)\n",
    "ax.set(ylim = (0, y_max))\n",
    "\n",
    "sns.lineplot(\n",
    "    ax=ax,\n",
    "    data=df_graph,\n",
    "    x=DATE_FIELD,\n",
    "    y='CumCase',\n",
    "    hue=COUNTRY_FIELD)"
   ]
  },
  {
   "cell_type": "markdown",
   "metadata": {},
   "source": [
    "## 日付指定、国ごと"
   ]
  },
  {
   "cell_type": "code",
   "execution_count": 29,
   "metadata": {},
   "outputs": [],
   "source": [
    "query = '%s == %s' % (DATE_FIELD, json.dumps(query_date),)\n",
    "df_graph = df.query(query).sort_values(['NewCase'], ascending=False)"
   ]
  },
  {
   "cell_type": "code",
   "execution_count": 30,
   "metadata": {},
   "outputs": [
    {
     "data": {
      "text/html": [
       "<div>\n",
       "<style scoped>\n",
       "    .dataframe tbody tr th:only-of-type {\n",
       "        vertical-align: middle;\n",
       "    }\n",
       "\n",
       "    .dataframe tbody tr th {\n",
       "        vertical-align: top;\n",
       "    }\n",
       "\n",
       "    .dataframe thead th {\n",
       "        text-align: right;\n",
       "    }\n",
       "</style>\n",
       "<table border=\"1\" class=\"dataframe\">\n",
       "  <thead>\n",
       "    <tr style=\"text-align: right;\">\n",
       "      <th></th>\n",
       "      <th>OBJECTID</th>\n",
       "      <th>ISO_2_CODE</th>\n",
       "      <th>ISO_3_CODE</th>\n",
       "      <th>ADM0_NAME</th>\n",
       "      <th>date_epicrv</th>\n",
       "      <th>NewCase</th>\n",
       "      <th>CumCase</th>\n",
       "      <th>NewDeath</th>\n",
       "      <th>CumDeath</th>\n",
       "      <th>Short_Name_ZH</th>\n",
       "      <th>Short_Name_FR</th>\n",
       "      <th>Short_Name_ES</th>\n",
       "      <th>Short_Name_RU</th>\n",
       "      <th>Short_Name_AR</th>\n",
       "      <th>date</th>\n",
       "      <th>id</th>\n",
       "    </tr>\n",
       "  </thead>\n",
       "  <tbody>\n",
       "    <tr>\n",
       "      <th>11623</th>\n",
       "      <td>11624</td>\n",
       "      <td>US</td>\n",
       "      <td>USA</td>\n",
       "      <td>United States of America</td>\n",
       "      <td>2020-04-30T00:00:00.000Z</td>\n",
       "      <td>20517</td>\n",
       "      <td>1003974</td>\n",
       "      <td>1936</td>\n",
       "      <td>52428</td>\n",
       "      <td>美利坚合众国</td>\n",
       "      <td>États-Unis d'Amérique</td>\n",
       "      <td>Estados Unidos de América</td>\n",
       "      <td>Соединенные Штаты Америки</td>\n",
       "      <td>الولايات المتحدة الأمريكية</td>\n",
       "      <td>2020-04-30</td>\n",
       "      <td>11623.0</td>\n",
       "    </tr>\n",
       "    <tr>\n",
       "      <th>1534</th>\n",
       "      <td>1535</td>\n",
       "      <td>BR</td>\n",
       "      <td>BRA</td>\n",
       "      <td>Brazil</td>\n",
       "      <td>2020-04-30T00:00:00.000Z</td>\n",
       "      <td>5385</td>\n",
       "      <td>71886</td>\n",
       "      <td>474</td>\n",
       "      <td>5017</td>\n",
       "      <td>巴西</td>\n",
       "      <td>Brésil</td>\n",
       "      <td>Brasil</td>\n",
       "      <td>Бразилия</td>\n",
       "      <td>البرازيل</td>\n",
       "      <td>2020-04-30</td>\n",
       "      <td>1534.0</td>\n",
       "    </tr>\n",
       "    <tr>\n",
       "      <th>8581</th>\n",
       "      <td>8582</td>\n",
       "      <td>PE</td>\n",
       "      <td>PER</td>\n",
       "      <td>Peru</td>\n",
       "      <td>2020-04-30T00:00:00.000Z</td>\n",
       "      <td>2491</td>\n",
       "      <td>31190</td>\n",
       "      <td>72</td>\n",
       "      <td>854</td>\n",
       "      <td>秘鲁</td>\n",
       "      <td>Pérou</td>\n",
       "      <td>Perú</td>\n",
       "      <td>Перу</td>\n",
       "      <td>بيرو</td>\n",
       "      <td>2020-04-30</td>\n",
       "      <td>8581.0</td>\n",
       "    </tr>\n",
       "    <tr>\n",
       "      <th>2046</th>\n",
       "      <td>2047</td>\n",
       "      <td>CA</td>\n",
       "      <td>CAN</td>\n",
       "      <td>Canada</td>\n",
       "      <td>2020-04-30T00:00:00.000Z</td>\n",
       "      <td>1349</td>\n",
       "      <td>50363</td>\n",
       "      <td>138</td>\n",
       "      <td>2904</td>\n",
       "      <td>加拿大</td>\n",
       "      <td>Canada</td>\n",
       "      <td>Canadá</td>\n",
       "      <td>Канада</td>\n",
       "      <td>كندا</td>\n",
       "      <td>2020-04-30</td>\n",
       "      <td>2046.0</td>\n",
       "    </tr>\n",
       "    <tr>\n",
       "      <th>7220</th>\n",
       "      <td>7221</td>\n",
       "      <td>MX</td>\n",
       "      <td>MEX</td>\n",
       "      <td>Mexico</td>\n",
       "      <td>2020-04-30T00:00:00.000Z</td>\n",
       "      <td>1223</td>\n",
       "      <td>16752</td>\n",
       "      <td>135</td>\n",
       "      <td>1569</td>\n",
       "      <td>墨西哥</td>\n",
       "      <td>Mexique</td>\n",
       "      <td>México</td>\n",
       "      <td>Мексика</td>\n",
       "      <td>المكسيك</td>\n",
       "      <td>2020-04-30</td>\n",
       "      <td>7220.0</td>\n",
       "    </tr>\n",
       "  </tbody>\n",
       "</table>\n",
       "</div>"
      ],
      "text/plain": [
       "       OBJECTID ISO_2_CODE ISO_3_CODE                 ADM0_NAME  \\\n",
       "11623     11624         US        USA  United States of America   \n",
       "1534       1535         BR        BRA                    Brazil   \n",
       "8581       8582         PE        PER                      Peru   \n",
       "2046       2047         CA        CAN                    Canada   \n",
       "7220       7221         MX        MEX                    Mexico   \n",
       "\n",
       "                    date_epicrv  NewCase  CumCase  NewDeath  CumDeath  \\\n",
       "11623  2020-04-30T00:00:00.000Z    20517  1003974      1936     52428   \n",
       "1534   2020-04-30T00:00:00.000Z     5385    71886       474      5017   \n",
       "8581   2020-04-30T00:00:00.000Z     2491    31190        72       854   \n",
       "2046   2020-04-30T00:00:00.000Z     1349    50363       138      2904   \n",
       "7220   2020-04-30T00:00:00.000Z     1223    16752       135      1569   \n",
       "\n",
       "      Short_Name_ZH          Short_Name_FR              Short_Name_ES  \\\n",
       "11623        美利坚合众国  États-Unis d'Amérique  Estados Unidos de América   \n",
       "1534             巴西                 Brésil                     Brasil   \n",
       "8581             秘鲁                  Pérou                       Perú   \n",
       "2046            加拿大                 Canada                     Canadá   \n",
       "7220            墨西哥                Mexique                     México   \n",
       "\n",
       "                   Short_Name_RU                Short_Name_AR       date  \\\n",
       "11623  Соединенные Штаты Америки  الولايات المتحدة الأمريكية  2020-04-30   \n",
       "1534                    Бразилия                     البرازيل 2020-04-30   \n",
       "8581                        Перу                         بيرو 2020-04-30   \n",
       "2046                      Канада                         كندا 2020-04-30   \n",
       "7220                     Мексика                      المكسيك 2020-04-30   \n",
       "\n",
       "            id  \n",
       "11623  11623.0  \n",
       "1534    1534.0  \n",
       "8581    8581.0  \n",
       "2046    2046.0  \n",
       "7220    7220.0  "
      ]
     },
     "execution_count": 30,
     "metadata": {},
     "output_type": "execute_result"
    }
   ],
   "source": [
    "df_graph.head()"
   ]
  },
  {
   "cell_type": "code",
   "execution_count": 31,
   "metadata": {},
   "outputs": [
    {
     "name": "stdout",
     "output_type": "stream",
     "text": [
      "2020-04-30,United States of America,20517\n",
      "2020-04-30,Brazil,5385\n",
      "2020-04-30,Peru,2491\n",
      "2020-04-30,Canada,1349\n",
      "2020-04-30,Mexico,1223\n",
      "2020-04-30,Singapore,690\n",
      "2020-04-30,Chile,520\n",
      "2020-04-30,Ecuador,417\n",
      "2020-04-30,South Africa,354\n",
      "2020-04-30,Colombia,352\n",
      "2020-04-30,Philippines,254\n",
      "2020-04-30,Dominican Republic,236\n",
      "2020-04-30,Japan,236\n",
      "2020-04-30,Algeria,199\n",
      "2020-04-30,Nigeria,195\n",
      "2020-04-30,Argentina,182\n",
      "2020-04-30,United Republic of Tanzania,180\n",
      "2020-04-30,Panama,179\n",
      "2020-04-30,Guinea,111\n",
      "2020-04-30,Cameroon,101\n",
      "2020-04-30,Malaysia,94\n",
      "2020-04-30,Senegal,59\n",
      "2020-04-30,Mali,58\n",
      "2020-04-30,Côte d’Ivoire,55\n",
      "2020-04-30,Bolivia (Plurinational State of),39\n",
      "2020-04-30,Gabon,38\n",
      "2020-04-30,Honduras,36\n",
      "2020-04-30,Puerto Rico,33\n",
      "2020-04-30,El Salvador,32\n",
      "2020-04-30,Cuba,30\n",
      "2020-04-30,Guatemala,27\n",
      "2020-04-30,Eswatini,20\n",
      "2020-04-30,Jamaica,17\n",
      "2020-04-30,Congo,13\n",
      "2020-04-30,Rwanda,13\n",
      "2020-04-30,Sierra Leone,12\n",
      "2020-04-30,Kenya,10\n",
      "2020-04-30,Togo,10\n",
      "2020-04-30,Paraguay,9\n",
      "2020-04-30,Democratic Republic of the Congo,9\n",
      "2020-04-30,Costa Rica,8\n",
      "2020-04-30,Australia,8\n",
      "2020-04-30,Benin,5\n",
      "2020-04-30,Uruguay,5\n",
      "2020-04-30,Ethiopia,4\n",
      "2020-04-30,Guinea-Bissau,4\n",
      "2020-04-30,China,4\n",
      "2020-04-30,Republic of Korea,4\n",
      "2020-04-30,Niger,4\n",
      "2020-04-30,United States Virgin Islands,3\n",
      "2020-04-30,Réunion,3\n",
      "2020-04-30,New Zealand,3\n",
      "2020-04-30,Cayman Islands,3\n",
      "2020-04-30,Guadeloupe,2\n",
      "2020-04-30,Saint Lucia,2\n",
      "2020-04-30,Zambia,2\n",
      "2020-04-30,Bermuda,1\n",
      "2020-04-30,French Guiana,1\n",
      "2020-04-30,Saint Vincent and the Grenadines,1\n",
      "2020-04-30,Grenada,1\n",
      "2020-04-30,Gambia,1\n",
      "2020-04-30,Guyana,1\n",
      "2020-04-30,Viet Nam,0\n",
      "2020-04-30,Papua New Guinea,0\n",
      "2020-04-30,occupied Palestinian territory,0\n",
      "2020-04-30,Yemen,0\n",
      "2020-04-30,Monaco,0\n",
      "2020-04-30,Mayotte,0\n",
      "2020-04-30,Mongolia,0\n",
      "2020-04-30,Pakistan,0\n",
      "2020-04-30,United Arab Emirates,0\n",
      "2020-04-30,Oman,0\n",
      "2020-04-30,Namibia,0\n",
      "2020-04-30,Montenegro,0\n",
      "2020-04-30,Norway,0\n",
      "2020-04-30,Nepal,0\n",
      "2020-04-30,Montserrat,0\n",
      "2020-04-30,Uzbekistan,0\n",
      "2020-04-30,Northern Mariana Islands (Commonwealth of the),0\n",
      "2020-04-30,North Macedonia,0\n",
      "2020-04-30,Portugal,0\n",
      "2020-04-30,Venezuela (Bolivarian Republic of),0\n",
      "2020-04-30,Morocco,0\n",
      "2020-04-30,Nicaragua,0\n",
      "2020-04-30,Mozambique,0\n",
      "2020-04-30,New Caledonia,0\n",
      "2020-04-30,Myanmar,0\n",
      "2020-04-30,Netherlands,0\n",
      "2020-04-30,Poland,0\n",
      "2020-04-30,Republic of Moldova,0\n",
      "2020-04-30,Ukraine,0\n",
      "2020-04-30,Somalia,0\n",
      "2020-04-30,Timor-Leste,0\n",
      "2020-04-30,The United Kingdom,0\n",
      "2020-04-30,Thailand,0\n",
      "2020-04-30,Sint Maarten,0\n",
      "2020-04-30,Slovakia,0\n",
      "2020-04-30,Slovenia,0\n",
      "2020-04-30,Syrian Arab Republic,0\n",
      "2020-04-30,Trinidad and Tobago,0\n",
      "2020-04-30,Switzerland,0\n",
      "2020-04-30,Sweden,0\n",
      "2020-04-30,Suriname,0\n",
      "2020-04-30,Sudan,0\n",
      "2020-04-30,Sri Lanka,0\n",
      "2020-04-30,South Sudan,0\n",
      "2020-04-30,Seychelles,0\n",
      "2020-04-30,Serbia,0\n",
      "2020-04-30,Uganda,0\n",
      "2020-04-30,Tunisia,0\n",
      "2020-04-30,Qatar,0\n",
      "2020-04-30,Turks and Caicos Islands,0\n",
      "2020-04-30,Turkey,0\n",
      "2020-04-30,Spain,0\n",
      "2020-04-30,Romania,0\n",
      "2020-04-30,Russian Federation,0\n",
      "2020-04-30,Saint Barthélemy,0\n",
      "2020-04-30,Saudi Arabia,0\n",
      "2020-04-30,Saint Kitts and Nevis,0\n",
      "2020-04-30,Saint Martin,0\n",
      "2020-04-30,Saint Pierre and Miquelon,0\n",
      "2020-04-30,San Marino,0\n",
      "2020-04-30,Sao Tome and Principe,0\n",
      "2020-04-30,Mauritania,0\n",
      "2020-04-30,Mauritius,0\n",
      "2020-04-30,Afghanistan,0\n",
      "2020-04-30,Martinique,0\n",
      "2020-04-30,Cyprus,0\n",
      "2020-04-30,Burkina Faso,0\n",
      "2020-04-30,Burundi,0\n",
      "2020-04-30,Cabo Verde,0\n",
      "2020-04-30,Cambodia,0\n",
      "2020-04-30,Central African Republic,0\n",
      "2020-04-30,Chad,0\n",
      "2020-04-30,Croatia,0\n",
      "2020-04-30,Curaçao,0\n",
      "2020-04-30,Czechia,0\n",
      "2020-04-30,Brunei Darussalam,0\n",
      "2020-04-30,Denmark,0\n",
      "2020-04-30,Djibouti,0\n",
      "2020-04-30,Dominica,0\n",
      "2020-04-30,Egypt,0\n",
      "2020-04-30,Equatorial Guinea,0\n",
      "2020-04-30,Eritrea,0\n",
      "2020-04-30,Estonia,0\n",
      "2020-04-30,Falkland Islands (Malvinas),0\n",
      "2020-04-30,Bulgaria,0\n",
      "2020-04-30,British Virgin Islands,0\n",
      "2020-04-30,Fiji,0\n",
      "2020-04-30,Bahamas,0\n",
      "2020-04-30,Andorra,0\n",
      "2020-04-30,Angola,0\n",
      "2020-04-30,Anguilla,0\n",
      "2020-04-30,Antigua and Barbuda,0\n",
      "2020-04-30,Armenia,0\n",
      "2020-04-30,Aruba,0\n",
      "2020-04-30,Austria,0\n",
      "2020-04-30,Azerbaijan,0\n",
      "2020-04-30,Bahrain,0\n",
      "2020-04-30,Botswana,0\n",
      "2020-04-30,Bangladesh,0\n",
      "2020-04-30,Barbados,0\n",
      "2020-04-30,Belarus,0\n",
      "2020-04-30,Belgium,0\n",
      "2020-04-30,Belize,0\n",
      "2020-04-30,Bhutan,0\n",
      "2020-04-30,Bonaire, Sint Eustatius and Saba,0\n",
      "2020-04-30,Bosnia and Herzegovina,0\n",
      "2020-04-30,Faroe Islands,0\n",
      "2020-04-30,Finland,0\n",
      "2020-04-30,Malta,0\n",
      "2020-04-30,Latvia,0\n",
      "2020-04-30,Jersey,0\n",
      "2020-04-30,Jordan,0\n",
      "2020-04-30,Kazakhstan,0\n",
      "2020-04-30,Albania,0\n",
      "2020-04-30,Kosovo[1],0\n",
      "2020-04-30,Kuwait,0\n",
      "2020-04-30,Kyrgyzstan,0\n",
      "2020-04-30,Lao People's Democratic Republic,0\n",
      "2020-04-30,Lebanon,0\n",
      "2020-04-30,Israel,0\n",
      "2020-04-30,Liberia,0\n",
      "2020-04-30,Libya,0\n",
      "2020-04-30,Liechtenstein,0\n",
      "2020-04-30,Lithuania,0\n",
      "2020-04-30,Luxembourg,0\n",
      "2020-04-30,Madagascar,0\n",
      "2020-04-30,Malawi,0\n",
      "2020-04-30,Maldives,0\n",
      "2020-04-30,Italy,0\n",
      "2020-04-30,Isle of Man,0\n",
      "2020-04-30,France,0\n",
      "2020-04-30,Guernsey,0\n",
      "2020-04-30,French Polynesia,0\n",
      "2020-04-30,Georgia,0\n",
      "2020-04-30,Germany,0\n",
      "2020-04-30,Ghana,0\n",
      "2020-04-30,Gibraltar,0\n",
      "2020-04-30,Greece,0\n",
      "2020-04-30,Greenland,0\n",
      "2020-04-30,Guam,0\n",
      "2020-04-30,Haiti,0\n",
      "2020-04-30,Ireland,0\n",
      "2020-04-30,Holy See,0\n",
      "2020-04-30,Hungary,0\n",
      "2020-04-30,Iceland,0\n",
      "2020-04-30,India,0\n",
      "2020-04-30,Indonesia,0\n",
      "2020-04-30,International conveyance (Diamond Princess),0\n",
      "2020-04-30,Iran (Islamic Republic of),0\n",
      "2020-04-30,Iraq,0\n",
      "2020-04-30,Zimbabwe,0\n"
     ]
    }
   ],
   "source": [
    "# [DEBUG] ファイルの最終日付における、国別の新規感染者数を一覧表示\n",
    "for idx, row in df_graph.iterrows():\n",
    "    fix_date = datetime.datetime.strftime(row[DATE_FIELD], '%Y-%m-%d')\n",
    "    print('%s,%s,%d' % (fix_date,row[COUNTRY_FIELD],row['NewCase']))"
   ]
  },
  {
   "cell_type": "code",
   "execution_count": 32,
   "metadata": {},
   "outputs": [
    {
     "data": {
      "text/plain": [
       "<matplotlib.axes._subplots.AxesSubplot at 0x7fbfeaa84af0>"
      ]
     },
     "execution_count": 32,
     "metadata": {},
     "output_type": "execute_result"
    },
    {
     "data": {
      "image/png": "[encoded data removed]",
      "text/plain": [
       "<Figure size 3600x1440 with 1 Axes>"
      ]
     },
     "metadata": {
      "needs_background": "light"
     },
     "output_type": "display_data"
    }
   ],
   "source": [
    "# fig, ax = plt.subplots(figsize=(20, 10))\n",
    "\n",
    "fig, ax = plt.subplots(figsize=(50, 20))\n",
    "# ax.set_xticklabels('', rotation=90)\n",
    "plt.xticks(rotation=90)\n",
    "\n",
    "y_max = (int(df_graph['NewCase'].max() / 50) + 1) * 50\n",
    "ax.set(ylim = (0, y_max))\n",
    "\n",
    "sns.barplot(\n",
    "    ax=ax,\n",
    "    data=df_graph,\n",
    "    x=COUNTRY_FIELD,\n",
    "    y='NewCase')"
   ]
  },
  {
   "cell_type": "code",
   "execution_count": 33,
   "metadata": {},
   "outputs": [
    {
     "name": "stdout",
     "output_type": "stream",
     "text": [
      "query_date : 2020-04-30\n"
     ]
    }
   ],
   "source": [
    "print('query_date : %s' % (query_date,))"
   ]
  },
  {
   "cell_type": "code",
   "execution_count": null,
   "metadata": {},
   "outputs": [],
   "source": []
  }
 ],
 "metadata": {
  "kernelspec": {
   "display_name": "Python 3",
   "language": "python",
   "name": "python3"
  },
  "language_info": {
   "codemirror_mode": {
    "name": "ipython",
    "version": 3
   },
   "file_extension": ".py",
   "mimetype": "text/x-python",
   "name": "python",
   "nbconvert_exporter": "python",
   "pygments_lexer": "ipython3",
   "version": "3.8.2"
  }
 },
 "nbformat": 4,
 "nbformat_minor": 4
}
