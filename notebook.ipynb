{
 "cells": [
  {
   "cell_type": "code",
   "execution_count": null,
   "metadata": {},
   "outputs": [],
   "source": [
    "import numpy as np\n",
    "import pandas as pd\n",
    "import seaborn as sns\n",
    "from typing import Dict, List\n",
    "import datetime\n",
    "import json\n",
    "import matplotlib.pyplot as plt"
   ]
  },
  {
   "cell_type": "markdown",
   "metadata": {},
   "source": [
    "# 定数"
   ]
  },
  {
   "cell_type": "markdown",
   "metadata": {},
   "source": [
    "## 挙動の定義"
   ]
  },
  {
   "cell_type": "markdown",
   "metadata": {},
   "source": [
    "### DATE\n",
    "ある日付での都道府県ごとの件数を表示する際、日付を指定。\n",
    "- ファイルの中の最終日を指定する場合はNoneを設定\n",
    "- 特定の日付を指定する場合は、「YYYY-MM-DD」形式の文字列を設定"
   ]
  },
  {
   "cell_type": "code",
   "execution_count": null,
   "metadata": {},
   "outputs": [],
   "source": [
    "DATE = None\n",
    "# DATE = '2020-04-05'"
   ]
  },
  {
   "cell_type": "markdown",
   "metadata": {},
   "source": [
    "### PREF\n",
    "ある都道府県での日別の件数を表示する際の、都道府県を指定。  \n",
    "英語表記で指定する。  \n",
    "使用可能な都道府県は、`prefectures.csv` のファイルを参考に。"
   ]
  },
  {
   "cell_type": "code",
   "execution_count": null,
   "metadata": {},
   "outputs": [],
   "source": [
    "# PREF = ['osaka']\n",
    "PREF = ['tokyo', 'kanagawa', 'saitama', 'chiba', 'osaka', 'hyogo', 'fukuoka']"
   ]
  },
  {
   "cell_type": "markdown",
   "metadata": {},
   "source": [
    "### CALC_PREF_FIELD\n",
    "集計する都道府県の項目  \n",
    "・\"residence_pref\" : 居住都道府県  \n",
    "・\"consultation_pref\" : 受診都道府県"
   ]
  },
  {
   "cell_type": "code",
   "execution_count": null,
   "metadata": {},
   "outputs": [],
   "source": [
    "# CALC_PREF_FIELD = 'residence_pref'\n",
    "CALC_PREF_FIELD = 'consultation_pref'"
   ]
  },
  {
   "cell_type": "markdown",
   "metadata": {},
   "source": [
    "## 定数、変数"
   ]
  },
  {
   "cell_type": "code",
   "execution_count": null,
   "metadata": {},
   "outputs": [],
   "source": [
    "DATA_FILE = 'COVID-19.csv'\n",
    "PREF_FILE = 'prefectures.csv'"
   ]
  },
  {
   "cell_type": "markdown",
   "metadata": {},
   "source": [
    "# 都道府県のCSV読み取り、ローマ字名への変換用辞書を作成"
   ]
  },
  {
   "cell_type": "code",
   "execution_count": null,
   "metadata": {},
   "outputs": [],
   "source": [
    "df_pref = pd.read_csv(PREF_FILE, names = ('jp', 'kana', 'en'))"
   ]
  },
  {
   "cell_type": "code",
   "execution_count": null,
   "metadata": {},
   "outputs": [],
   "source": [
    "# [DEBUG] 都道府県CSVの先頭行を表示\n",
    "# df_pref.head()"
   ]
  },
  {
   "cell_type": "code",
   "execution_count": null,
   "metadata": {},
   "outputs": [],
   "source": [
    "dic_pref_en = {}\n",
    "for idx, row in df_pref.iterrows():\n",
    "    dic_pref_en[row['jp']] = row['en']"
   ]
  },
  {
   "cell_type": "markdown",
   "metadata": {},
   "source": [
    "# 最新のCOVID-19データファイルをダウンロードするには次のセルを有効にして実行する。"
   ]
  },
  {
   "cell_type": "code",
   "execution_count": null,
   "metadata": {},
   "outputs": [],
   "source": [
    "# DATA_URL = 'https://dl.dropboxusercontent.com/s/6mztoeb6xf78g5w/COVID-19.csv'\n",
    "\n",
    "# import urllib.request\n",
    "\n",
    "# with urllib.request.urlopen(DATA_URL) as u:\n",
    "#   with open(DATA_FILE, 'bw') as o:\n",
    "#     o.write(u.read())"
   ]
  },
  {
   "cell_type": "markdown",
   "metadata": {},
   "source": [
    "# COVID-19のデータファイルを読み取り"
   ]
  },
  {
   "cell_type": "code",
   "execution_count": null,
   "metadata": {},
   "outputs": [],
   "source": [
    "df = pd.read_csv(DATA_FILE)"
   ]
  },
  {
   "cell_type": "code",
   "execution_count": null,
   "metadata": {},
   "outputs": [],
   "source": [
    "# [DEBUG] CSVの列名を表示\n",
    "df.columns"
   ]
  },
  {
   "cell_type": "code",
   "execution_count": null,
   "metadata": {},
   "outputs": [],
   "source": [
    "# [DEBUG] CSVの先頭行を表示\n",
    "# df.head()"
   ]
  },
  {
   "cell_type": "code",
   "execution_count": null,
   "metadata": {},
   "outputs": [],
   "source": [
    "# [DEBUG] CSVの末尾行を表示\n",
    "# df.tail()"
   ]
  },
  {
   "cell_type": "markdown",
   "metadata": {},
   "source": [
    "# COVID-19のデータを加工"
   ]
  },
  {
   "cell_type": "code",
   "execution_count": null,
   "metadata": {},
   "outputs": [],
   "source": [
    "for idx, row in df.iterrows():\n",
    "    # 確定日を日付型にする\n",
    "    fix_date = None\n",
    "    if not pd.isnull(row['確定日']):\n",
    "        fix_date = datetime.datetime.strptime(row['確定日'], '%m/%d/%Y')\n",
    "    df.at[idx, 'fix_date'] = fix_date\n",
    "    \n",
    "    # 都道府県を英語表記にする\n",
    "    residence_pref = None\n",
    "    if row['居住都道府県'] in dic_pref_en:\n",
    "        residence_pref = dic_pref_en[row['居住都道府県']]\n",
    "    df.at[idx, 'residence_pref'] = residence_pref\n",
    "    \n",
    "    # 受診都道府県を英語表記にする。\n",
    "    consultation_pref = None\n",
    "    if row['受診都道府県'] in dic_pref_en:\n",
    "        consultation_pref = dic_pref_en[row['受診都道府県']]\n",
    "    df.at[idx, 'consultation_pref'] = consultation_pref\n",
    "    \n",
    "    # 通しに「id」の別名をつける\n",
    "    df.at[idx, 'id'] = row['通し']"
   ]
  },
  {
   "cell_type": "code",
   "execution_count": null,
   "metadata": {},
   "outputs": [],
   "source": [
    "# [DEBUG] 加工したデータの先頭行を表示\n",
    "# df.head()"
   ]
  },
  {
   "cell_type": "code",
   "execution_count": null,
   "metadata": {},
   "outputs": [],
   "source": [
    "# [DEBUG] データの列名を表示\n",
    "# for col in df.columns:\n",
    "#     print(col)"
   ]
  },
  {
   "cell_type": "markdown",
   "metadata": {},
   "source": [
    "# COVID-19のデータから対象データをフィルターする\n",
    "※対象外のデータを除外する"
   ]
  },
  {
   "cell_type": "code",
   "execution_count": null,
   "metadata": {},
   "outputs": [],
   "source": [
    "df_filter = df"
   ]
  },
  {
   "cell_type": "code",
   "execution_count": null,
   "metadata": {},
   "outputs": [],
   "source": [
    "# 居住地都道府県（英語）がNaNの行を削除する（都道府県以外の国名等が入っているもの）\n",
    "df_filter = df_filter[df_filter[CALC_PREF_FIELD].notnull()]"
   ]
  },
  {
   "cell_type": "code",
   "execution_count": null,
   "metadata": {},
   "outputs": [],
   "source": [
    "# df[['居住都道府県', 'fix_date', 'ステータス']].head()\n",
    "# df_filter.groupby('ステータス').count()['id']\n",
    "\n",
    "# ステータスがNaN（死亡でも退院でもない）の行のみ抽出する\n",
    "# df_filter = df_filter[df_filter['ステータス'].isnull()]"
   ]
  },
  {
   "cell_type": "code",
   "execution_count": null,
   "metadata": {},
   "outputs": [],
   "source": [
    "# [DEBUG] フィルターしたデータの先頭行を表示\n",
    "# df_filter.head()"
   ]
  },
  {
   "cell_type": "code",
   "execution_count": null,
   "metadata": {},
   "outputs": [],
   "source": [
    "# [DEBUG] フィルターしたデータの列名を表示\n",
    "# for col in df_filter.columns:\n",
    "#     print(col)"
   ]
  },
  {
   "cell_type": "markdown",
   "metadata": {},
   "source": [
    "# 集計して件数を表示してみる"
   ]
  },
  {
   "cell_type": "code",
   "execution_count": null,
   "metadata": {},
   "outputs": [],
   "source": [
    "# df_filter.groupby('residence_pref').count()['id'].reset_index().sort_values('id', ascending=False)\n",
    "df_filter.groupby(CALC_PREF_FIELD).count()['id'].reset_index().sort_values('id', ascending=False)"
   ]
  },
  {
   "cell_type": "code",
   "execution_count": null,
   "metadata": {},
   "outputs": [],
   "source": [
    "pd.DataFrame(df_filter.groupby(['fix_date']).count()['id']).sort_values('fix_date')"
   ]
  },
  {
   "cell_type": "code",
   "execution_count": null,
   "metadata": {},
   "outputs": [],
   "source": [
    "# [DEBUG] 指定された日付の全行表示\n",
    "# date = DATE\n",
    "\n",
    "# if date is None:\n",
    "#     max_date = df_filter['fix_date'].max()\n",
    "#     date = datetime.datetime.strftime(df_filter['fix_date'].max(), '%Y-%m-%d')\n",
    "\n",
    "# print('query date : %s' % (date,))\n",
    "# query = 'fix_date == \"%s\"' % (date,)\n",
    "\n",
    "# for idx, row in df_filter.query(query).iterrows():\n",
    "#     print('%d,%s,%s,%s,%s,%s' % (idx,row['id'], row['受診都道府県'], row['residence_pref'], row['居住都道府県'], row['consultation_pref']))"
   ]
  },
  {
   "cell_type": "markdown",
   "metadata": {},
   "source": [
    "# 件数を集計する"
   ]
  },
  {
   "cell_type": "code",
   "execution_count": null,
   "metadata": {},
   "outputs": [],
   "source": [
    "df_count = pd.DataFrame(df.groupby(['fix_date', CALC_PREF_FIELD]).count()['id']).sort_values([CALC_PREF_FIELD, 'fix_date'])"
   ]
  },
  {
   "cell_type": "code",
   "execution_count": null,
   "metadata": {},
   "outputs": [],
   "source": [
    "df_count = df_count.reset_index()"
   ]
  },
  {
   "cell_type": "code",
   "execution_count": null,
   "metadata": {},
   "outputs": [],
   "source": [
    "df_count.head()"
   ]
  },
  {
   "cell_type": "code",
   "execution_count": null,
   "metadata": {},
   "outputs": [],
   "source": [
    "for idx, row in df_count.iterrows():\n",
    "    # print(row)\n",
    "    pass"
   ]
  },
  {
   "cell_type": "markdown",
   "metadata": {},
   "source": [
    "# グラフ描画"
   ]
  },
  {
   "cell_type": "markdown",
   "metadata": {},
   "source": [
    "## 都道府県指定、日付ごと"
   ]
  },
  {
   "cell_type": "code",
   "execution_count": null,
   "metadata": {},
   "outputs": [],
   "source": [
    "# query = 'residence_pref in %s' % json.dumps(PREF)\n",
    "query = 'consultation_pref in %s' % json.dumps(PREF)\n",
    "df_graph = df_count.query(query)"
   ]
  },
  {
   "cell_type": "code",
   "execution_count": null,
   "metadata": {},
   "outputs": [],
   "source": [
    "# df_graph = df_count.query('residence_pref == \"tokyo\"')"
   ]
  },
  {
   "cell_type": "code",
   "execution_count": null,
   "metadata": {},
   "outputs": [],
   "source": [
    "df_graph.head()"
   ]
  },
  {
   "cell_type": "code",
   "execution_count": null,
   "metadata": {},
   "outputs": [],
   "source": [
    "# fig, ax = plt.subplots(figsize=(20, 10))\n",
    "\n",
    "fig, ax = plt.subplots(figsize=(10, 5))\n",
    "# ax.set_xticklabels('', rotation=90)\n",
    "plt.xticks(rotation=90)\n",
    "\n",
    "sns.lineplot(\n",
    "    ax=ax,\n",
    "    data=df_graph,\n",
    "    x='fix_date',\n",
    "    y='id',\n",
    "    hue=CALC_PREF_FIELD)"
   ]
  },
  {
   "cell_type": "markdown",
   "metadata": {},
   "source": [
    "## 日付指定、都道府県ごと"
   ]
  },
  {
   "cell_type": "code",
   "execution_count": null,
   "metadata": {},
   "outputs": [],
   "source": [
    "date = DATE\n",
    "\n",
    "if date is None:\n",
    "    date = datetime.datetime.strftime(df_count['fix_date'].max(), '%Y-%m-%d')"
   ]
  },
  {
   "cell_type": "code",
   "execution_count": null,
   "metadata": {},
   "outputs": [],
   "source": [
    "date"
   ]
  },
  {
   "cell_type": "code",
   "execution_count": null,
   "metadata": {},
   "outputs": [],
   "source": [
    "query = 'fix_date == %s' % json.dumps(date)\n",
    "df_graph = df_count.query(query).sort_values(['id'])"
   ]
  },
  {
   "cell_type": "code",
   "execution_count": null,
   "metadata": {},
   "outputs": [],
   "source": [
    "df_graph.head()"
   ]
  },
  {
   "cell_type": "code",
   "execution_count": null,
   "metadata": {},
   "outputs": [],
   "source": [
    "for idx, row in df_graph.iterrows():\n",
    "    print(row)"
   ]
  },
  {
   "cell_type": "code",
   "execution_count": null,
   "metadata": {},
   "outputs": [],
   "source": [
    "# fig, ax = plt.subplots(figsize=(20, 10))\n",
    "\n",
    "fig, ax = plt.subplots(figsize=(10, 5))\n",
    "# ax.set_xticklabels('', rotation=90)\n",
    "plt.xticks(rotation=90)\n",
    "\n",
    "sns.barplot(\n",
    "    ax=ax,\n",
    "    data=df_graph,\n",
    "    x=CALC_PREF_FIELD,\n",
    "    y='id')"
   ]
  },
  {
   "cell_type": "code",
   "execution_count": null,
   "metadata": {},
   "outputs": [],
   "source": []
  }
 ],
 "metadata": {
  "kernelspec": {
   "display_name": "Python 3",
   "language": "python",
   "name": "python3"
  },
  "language_info": {
   "codemirror_mode": {
    "name": "ipython",
    "version": 3
   },
   "file_extension": ".py",
   "mimetype": "text/x-python",
   "name": "python",
   "nbconvert_exporter": "python",
   "pygments_lexer": "ipython3",
   "version": "3.8.2"
  }
 },
 "nbformat": 4,
 "nbformat_minor": 4
}
